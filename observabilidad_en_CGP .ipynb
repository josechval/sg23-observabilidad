{
 "cells": [
  {
   "cell_type": "markdown",
   "id": "74f5f6bc-6429-48b2-bbc8-996e2a05cf86",
   "metadata": {},
   "source": [
    "# Observabilidad en GCP"
   ]
  },
  {
   "cell_type": "markdown",
   "id": "7f714f80-5bdf-4a98-9d88-80ce6865db1a",
   "metadata": {},
   "source": [
    "## Observabilidad"
   ]
  },
  {
   "cell_type": "markdown",
   "id": "ef92bd38-8c0d-42f7-9f87-1b6f965d9e36",
   "metadata": {},
   "source": [
    "Cuando se trata con sistemas complejos, es necesario controlar diversos aspectos de su funcionamiento y comportamiento.\n",
    "\n",
    "La observabilidad es la capacidad de comprender el comportamiento interno de un sistema a partir de sus salidas externas. Es una propiedad importante de los sistemas complejos, ya que permite a los ingenieros y operadores detectar, diagnosticar y resolver problemas de forma rápida y eficaz.\n",
    "\n",
    "La observabilidad se puede lograr mediante la recopilación y el análisis de una amplia gama de datos, como métricas (monitoreo), registros (logging) y trazas (tracing). Estos datos pueden proporcionar información sobre el rendimiento, la salud y el comportamiento del sistema.\n",
    "\n",
    "La observabilidad es especialmente importante para los sistemas distribuidos modernos, que son complejos y dinámicos. Estos sistemas pueden estar compuestos por cientos o miles de componentes que se ejecutan en diferentes máquinas y ubicaciones. La observabilidad permite a los ingenieros y operadores ver cómo interactúan todos estos componentes y comprender cómo están afectando al rendimiento y la salud del sistema en general.\n",
    "\n",
    "Algunos de los beneficios de la observabilidad incluyen:\n",
    "\n",
    "* Detección de problemas más rápida: La observabilidad permite a los ingenieros y operadores detectar problemas en el sistema tan pronto como ocurren. Esto puede ayudar a evitar interrupciones y pérdidas de datos.\n",
    "* Diagnóstico de problemas más preciso: La observabilidad proporciona a los ingenieros y operadores la información necesaria para diagnosticar los problemas de forma precisa y rápida. Esto puede ahorrar tiempo y dinero.\n",
    "*Resolución de problemas más eficiente: La observabilidad ayuda a los ingenieros y operadores a identificar la causa raíz de los problemas y a encontrar soluciones efectivas.\n",
    "\n",
    "La observabilidad es una práctica esencial para todas las organizaciones que utilizan sistemas complejos. Al invertir en observabilidad, las organizaciones pueden mejorar la fiabilidad, el rendimiento y la seguridad de sus sistemas."
   ]
  },
  {
   "cell_type": "markdown",
   "id": "90a6d15f-3ce1-48e4-a92f-f291ddd27568",
   "metadata": {},
   "source": [
    "* Monitoreo: El monitoreo es el proceso de recopilar, analizar y visualizar datos sobre el rendimiento y la salud de un sistema. El objetivo del monitoreo es detectar problemas de forma temprana para que puedan resolverse antes de que causen interrupciones o pérdidas de datos (https://cloud.google.com/monitoring/docs).\n",
    "\n",
    "* Logging: El logging es el proceso de registrar eventos y mensajes que ocurren en un sistema. Los registros pueden proporcionar información valiosa para depurar problemas, analizar el comportamiento del sistema y realizar auditorías de segurida (https://cloud.google.com/logging/docs) (https://cloud.google.com/error-reporting/docs).\n",
    "\n",
    "* Tracing: El tracing es el proceso de rastrear el flujo de una solicitud a través de un sistema. El tracing puede proporcionar información sobre el tiempo que tarda una solicitud en completarse, las rutas que toma y los recursos que utiliza (https://cloud.google.com/trace).\n",
    "\n",
    "* Debugging: El debugging es el proceso de encontrar y corregir errores en un programa. El debugging puede realizarse utilizando una variedad de herramientas y técnicas, como el logging, el tracing y el uso de depuradores.\n"
   ]
  },
  {
   "cell_type": "markdown",
   "id": "71babdb6-965c-4254-b5b1-ba518a02330a",
   "metadata": {},
   "source": [
    "## Relación entre monitoreo, logging, tracing y debugging."
   ]
  },
  {
   "cell_type": "markdown",
   "id": "321b29bf-5478-4c0b-a640-5e8443e3d8f7",
   "metadata": {},
   "source": [
    "El monitoreo, el logging, el tracing y el debugging son cuatro técnicas estrechamente relacionadas que se utilizan para comprender y mejorar el comportamiento de los sistemas.\n",
    "\n",
    "El monitoreo proporciona una visión general del rendimiento y la salud del sistema. El logging proporciona información detallada sobre los eventos y mensajes que ocurren en el sistema. El tracing proporciona información sobre el flujo de las solicitudes a través del sistema. Y el debugging se utiliza para encontrar y corregir errores en el programa.\n",
    "\n",
    "Estas cuatro técnicas se pueden utilizar juntas para obtener una comprensión completa del comportamiento del sistema. Por ejemplo, si el monitoreo indica que el sistema está experimentando un rendimiento lento, el logging y el tracing se pueden utilizar para identificar la solicitud específica que está causando el problema. Una vez que se ha identificado la solicitud, el debugging se puede utilizar para encontrar y corregir el error que está causando el problema.\n",
    "\n",
    "Las cuatro técnicas son esenciales para mantener los sistemas complejos en funcionamiento de manera confiable y eficiente."
   ]
  },
  {
   "cell_type": "markdown",
   "id": "1f65e35d-d4a3-46de-b257-25d10e32279f",
   "metadata": {},
   "source": [
    "## Agentes."
   ]
  },
  {
   "cell_type": "markdown",
   "id": "936e0f4b-0401-4771-ad76-8163c9391c5a",
   "metadata": {},
   "source": [
    "Los \"agentes\" son a menudo componentes de software que se instalan en hosts o en contenedores para recopilar y enviar métricas, trazas y registros a una herramienta o plataforma de observabilidad. Estos agentes garantizan la observabilidad de las siguientes maneras:\n",
    "\n",
    "* Recopilación de Métricas: Los agentes pueden recopilar métricas sobre el rendimiento y el estado del sistema. Esto puede incluir cosas como el uso de CPU, memoria, disco, la latencia de la red, y más. Estas métricas proporcionan una vista de alto nivel de cómo se está comportando el sistema.\n",
    "\n",
    "* Trazas: Las trazas proporcionan información sobre cómo fluyen las transacciones a través de un sistema. En aplicaciones microservicios, una sola transacción podría pasar por múltiples servicios. Las trazas permiten seguir estas transacciones a través de servicios y sistemas para identificar cuellos de botella o fallos.\n",
    "\n",
    "* Registros: Los registros son mensajes detallados generados por aplicaciones y sistemas. Proporcionan información contextual sobre lo que está sucediendo en el sistema. Los agentes pueden recopilar y enviar estos registros a una plataforma de observabilidad para su análisis.\n",
    "\n",
    "* Contextualización: Los agentes pueden enriquecer los datos recopilados con metadatos contextuales, como la versión del software, el ambiente (desarrollo, producción, pruebas), la ubicación geográfica, el tipo de host, etc. Esta información es vital para correlacionar eventos y entender el comportamiento en contextos específicos.\n",
    "\n",
    "* Envío Continuo: Los agentes envían estos datos continuamente a una plataforma de observabilidad central, lo que permite el monitoreo en tiempo real y la detección rápida de problemas.\n",
    "\n",
    "* Integraciones Específicas: Muchos agentes ofrecen integraciones específicas para ciertas aplicaciones o plataformas, lo que les permite recopilar métricas, trazas y registros más detallados y relevantes.\n",
    "\n",
    "* Adaptabilidad: Los agentes suelen ser configurables, permitiendo a los ingenieros elegir qué datos recopilar, con qué frecuencia y dónde enviarlos. Esto permite adaptar la observabilidad a las necesidades específicas de un sistema.\n",
    "\n",
    "* Detección Automática: Algunos agentes avanzados tienen capacidades de auto-descubrimiento, lo que significa que pueden detectar automáticamente servicios y aplicaciones en ejecución y comenzar a monitorizarlos sin intervención manual.\n",
    "\n",
    "Para que todo esto funcione efectivamente, es crucial que las herramientas y plataformas de observabilidad puedan procesar, almacenar, analizar y visualizar estos datos de manera eficiente. La combinación de agentes y una plataforma de observabilidad robusta permite a las organizaciones obtener una visión clara y en tiempo real de sus sistemas, facilitando la detección y resolución de problemas."
   ]
  },
  {
   "cell_type": "markdown",
   "id": "7a66ecde-ebc0-45ac-b0a9-9d8eb0e14d29",
   "metadata": {},
   "source": [
    "## Principales agentes.\n",
    "\n",
    "Existen varios agentes y herramientas de código abierto que se utilizan para mejorar la observabilidad de sistemas y aplicaciones. Aquí te presento una lista de algunos de los más populares:\n",
    "\n",
    "1. **Prometheus:** Una herramienta de monitorización y alerta que recopila métricas de sus targets mediante scraping. Viene con su propio sistema de almacenamiento y lenguaje de consulta (PromQL).\n",
    "\n",
    "2. **Node Exporter:** Es un agente de Prometheus que exporta métricas del sistema operativo, como CPU, memoria, disco y más.\n",
    "\n",
    "3. **Jaeger:** Una herramienta de trazado distribuido que ayuda a visualizar y solucionar problemas de rendimiento en sistemas microservicios.\n",
    "\n",
    "4. **Zabbix:** Una solución de monitoreo que ofrece recopilación de métricas, visualización y alertas.\n",
    "\n",
    "5. **Grafana:** Una plataforma de visualización y análisis que puede integrarse con diversas fuentes de datos, incluyendo Prometheus y Zabbix, para representar métricas y logs.\n",
    "\n",
    "6. **Telegraf:** Un agente de recolección de métricas creado por InfluxData. Puede recopilar métricas de una variedad de fuentes y enviarlas a una base de datos InfluxDB.\n",
    "\n",
    "7. **Elastic Beats:** Son agentes ligeros que recopilan datos y los envían a Elasticsearch. Algunos ejemplos son Filebeat (para logs), Metricbeat (para métricas) y Packetbeat (para tráfico de red).\n",
    "\n",
    "8. **Fluentd y Fluent Bit:** Herramientas para recopilación y envío de logs. Se integran con muchos sistemas de almacenamiento.\n",
    "\n",
    "9. **OpenTelemetry:** Un proyecto que combina las capacidades de OpenTracing y OpenCensus, y proporciona APIs, bibliotecas y agentes para rastrear y recopilar métricas desde aplicaciones.\n",
    "\n",
    "10. **StatsD:** Un servidor y protocolo para recopilar y agregar métricas.\n",
    "\n",
    "11. **Zipkin:** Una herramienta de trazado distribuido similar a Jaeger.\n",
    "\n",
    "12. **Loki:** Un sistema de logs horizontalmente escalable creado por Grafana Labs que se integra bien con Grafana para la visualización.\n",
    "\n",
    "13. **Collectd:** Un demonio que recopila métricas del sistema y las envía a diversas salidas.\n",
    "\n",
    "14. **Nagios:** Una solución de monitoreo ampliamente reconocida que verifica hosts y servicios y alerta sobre problemas.\n",
    "\n",
    "Estas son solo algunas de las muchas herramientas y agentes de código abierto disponibles para observabilidad. Dependiendo de las necesidades específicas, las organizaciones pueden optar por combinar varias de estas herramientas para crear una solución de observabilidad completa. Es esencial investigar y probar cada herramienta para determinar cuál es la más adecuada para un caso de uso particular."
   ]
  },
  {
   "cell_type": "markdown",
   "id": "65eab907-4699-46ee-b2fc-f96155a4a37e",
   "metadata": {},
   "source": [
    "## Integraciones."
   ]
  },
  {
   "cell_type": "markdown",
   "id": "a7082797-fd9c-4538-bab8-5f3d12876f81",
   "metadata": {},
   "source": [
    "Muchos servicios de Google, como Compute Engine, envían telemetría a Cloud Monitoring. Puedes usar la página Integraciones para ver los tipos de telemetría que envía un servicio y obtener una vista previa de los paneles que muestran la telemetría.\n",
    "\n",
    "Cloud Monitoring también proporciona integraciones con aplicaciones de terceros. Estas integraciones te permiten recopilar telemetría de aplicaciones como Apache Web Server, MySQL, Redis y otras para implementaciones que se ejecutan en Compute Engine y Google Kubernetes Engine.\n",
    "\n",
    "Cuando se usa Compute Engine, el agente de operaciones recopila la telemetría de terceros.\n",
    "Cuando se usa GKE, Google Cloud Managed Service para Prometheus recopila la telemetría de terceros.\n",
    "\n",
    "\n",
    "https://cloud.google.com/monitoring/agent/integrations?hl=es-419"
   ]
  },
  {
   "cell_type": "markdown",
   "id": "19ab1162-cda5-411b-8850-ac53302dc68c",
   "metadata": {},
   "source": [
    "## Consultas de registros."
   ]
  },
  {
   "cell_type": "markdown",
   "id": "c8b71079-1c71-47b8-9806-27d18e3e5b16",
   "metadata": {},
   "source": [
    "Una consulta es una expresión booleana que especifica un subconjunto de todas las entradas de registro en el recurso de Google Cloud seleccionado, como una carpeta o un proyecto de Google Cloud.\n",
    "\n",
    "Puedes crear consultas basadas en el LogEntry campo indexado usando los operadores lógicos AND y OR.\n",
    "* https://cloud.google.com/logging/docs/view/logging-query-language?hl=es-419\n",
    "* https://cloud.google.com/logging/docs/view/logging-query-language?hl=es-419"
   ]
  },
  {
   "cell_type": "markdown",
   "id": "a61aaf05-43dd-4af1-ad55-261efc93b70e",
   "metadata": {},
   "source": [
    "## Métricas y alertas."
   ]
  },
  {
   "cell_type": "markdown",
   "id": "0a12e36c-83f1-4734-b718-650d6f75d29a",
   "metadata": {},
   "source": [
    "Uno de los aspectos cruciales de la administración y monitorización de aplicaciones en la nube es la capacidad de crear y usar métricas. Estas métricas permiten a los desarrolladores y operadores monitorear el rendimiento, identificar problemas y tomar decisiones informadas. A continuación, se describe cómo crear métricas en GCP.\n",
    "\n",
    "* https://cloud.google.com/monitoring/api/metrics\n",
    "\n",
    "### 1. **Métricas Predefinidas vs. Métricas Personalizadas**\n",
    "\n",
    "GCP ofrece una amplia variedad de métricas predefinidas que cubren todas las bases de los servicios de GCP. Por ejemplo, Compute Engine proporciona métricas sobre el uso de CPU, la red y el disco. Sin embargo, en ocasiones, es posible que necesites métricas específicas para tu aplicación o infraestructura, y aquí es donde entran las métricas personalizadas.\n",
    "\n",
    "### 2. **Creación de Métricas Personalizadas**\n",
    "\n",
    "#### **a. Acceso a Cloud Monitoring**\n",
    "\n",
    "Inicia sesión en la consola de GCP y navega a `Cloud Monitoring`.\n",
    "\n",
    "#### **b. Define tu Métrica**\n",
    "\n",
    "Navega a `Resources > Metrics Explorer`. Aquí, puedes explorar métricas existentes o crear una nueva. Haz clic en `Create Metric`.\n",
    "\n",
    "#### **c. Configura la Métrica**\n",
    "\n",
    "Especifica los detalles:\n",
    "\n",
    "- **Tipo de recurso y servicio:** Estos determinan de dónde provendrán los datos.\n",
    "- **Nombre y descripción:** Asigna un nombre único y proporciona una descripción para la métrica.\n",
    "- **Tipo de métrica:** Elige entre métricas de contador, calibre o distribución según la naturaleza de los datos.\n",
    "- **Unidad de medida:** Define cómo quieres que se muestren los datos, como segundos, bytes o cuentas.\n",
    "\n",
    "#### **d. Envío de Datos**\n",
    "\n",
    "Para enviar datos a tu métrica personalizada, puedes usar la API de Stackdriver o el cliente de Google Cloud para tu lenguaje de programación preferido.\n",
    "\n",
    "### 3. **Visualización y Alertas**\n",
    "\n",
    "Una vez que tengas métricas en su lugar, puedes:\n",
    "\n",
    "- **Crear Dashboards:** Crea paneles personalizados para visualizar tus métricas en tiempo real.\n",
    "- **Configurar Alertas:** Establece umbrales para tus métricas y recibe notificaciones si se cruzan esos umbrales."
   ]
  },
  {
   "cell_type": "markdown",
   "id": "53c66716-8a4e-4759-ba37-61c0faf354c6",
   "metadata": {},
   "source": []
  }
 ],
 "metadata": {
  "kernelspec": {
   "display_name": "Python 3 (ipykernel)",
   "language": "python",
   "name": "python3"
  },
  "language_info": {
   "codemirror_mode": {
    "name": "ipython",
    "version": 3
   },
   "file_extension": ".py",
   "mimetype": "text/x-python",
   "name": "python",
   "nbconvert_exporter": "python",
   "pygments_lexer": "ipython3",
   "version": "3.10.12"
  }
 },
 "nbformat": 4,
 "nbformat_minor": 5
}
